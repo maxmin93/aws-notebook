{
 "cells": [
  {
   "cell_type": "code",
   "execution_count": 1,
   "id": "0dad5fe6",
   "metadata": {},
   "outputs": [],
   "source": [
    "from tensorflow.keras.datasets import cifar10\n",
    "from tensorflow.keras import Sequential\n",
    "from tensorflow.keras.layers import Dense, Conv2D, MaxPooling2D, Flatten\n",
    "from tensorflow.keras.layers import Dense, Flatten\n",
    "from tensorflow.keras.models import Sequential\n",
    "from tensorflow.keras.datasets import cifar10\n",
    "\n",
    "from sklearn.model_selection import train_test_split\n",
    "\n",
    "import numpy as np\n",
    "import tensorflow as tf"
   ]
  },
  {
   "cell_type": "code",
   "execution_count": 2,
   "id": "41de3db9",
   "metadata": {},
   "outputs": [],
   "source": [
    "np.random.seed(42)\n",
    "tf.random.set_seed(42)"
   ]
  },
  {
   "cell_type": "code",
   "execution_count": 3,
   "id": "149b615a",
   "metadata": {},
   "outputs": [],
   "source": [
    "(X_train, y_train), (X_test, y_test) = cifar10.load_data()"
   ]
  },
  {
   "cell_type": "code",
   "execution_count": 4,
   "id": "70675c0c",
   "metadata": {},
   "outputs": [],
   "source": [
    "X_train = X_train.astype('float32') / 255.\n",
    "X_test = X_test.astype('float32') / 255."
   ]
  },
  {
   "cell_type": "code",
   "execution_count": 5,
   "id": "721a03d8",
   "metadata": {},
   "outputs": [
    {
     "name": "stdout",
     "output_type": "stream",
     "text": [
      "(40000, 32, 32, 3) (40000, 1)\n",
      "[0 1 2 3 4 5 6 7 8 9]\n"
     ]
    }
   ],
   "source": [
    "X_train, X_val, y_train, y_val = train_test_split(X_train, y_train, test_size=.2)\n",
    "\n",
    "print( X_train.shape, y_train.shape )\n",
    "print( np.unique(y_train) )"
   ]
  },
  {
   "cell_type": "code",
   "execution_count": 6,
   "id": "6a43da98",
   "metadata": {},
   "outputs": [],
   "source": [
    "model = Sequential()\n",
    "model.add(Conv2D(32, (3,3), padding='same', activation='relu'))\n",
    "model.add(MaxPooling2D(2,2))\n",
    "model.add(Conv2D(64, (3,3), padding='same', activation='relu'))\n",
    "model.add(MaxPooling2D(2,2))\n",
    "model.add(Conv2D(64, (3,3), padding='same', activation='relu'))\n",
    "model.add(Flatten())\n",
    "model.add(Dense(128, activation='relu'))\n",
    "model.add(Dense(10, activation='softmax'))"
   ]
  },
  {
   "cell_type": "code",
   "execution_count": null,
   "id": "75dc2b08",
   "metadata": {},
   "outputs": [],
   "source": [
    "model.summary()"
   ]
  },
  {
   "cell_type": "code",
   "execution_count": 7,
   "id": "f56e64f7",
   "metadata": {},
   "outputs": [
    {
     "name": "stdout",
     "output_type": "stream",
     "text": [
      "Epoch 1/10\n",
      "313/313 - 60s - loss: 1.6078 - accuracy: 0.4161 - val_loss: 1.3212 - val_accuracy: 0.5276\n",
      "Epoch 2/10\n",
      "313/313 - 58s - loss: 1.1834 - accuracy: 0.5802 - val_loss: 1.0895 - val_accuracy: 0.6136\n",
      "Epoch 3/10\n",
      "313/313 - 58s - loss: 1.0069 - accuracy: 0.6429 - val_loss: 1.0381 - val_accuracy: 0.6340\n",
      "Epoch 4/10\n",
      "313/313 - 59s - loss: 0.8819 - accuracy: 0.6913 - val_loss: 0.9324 - val_accuracy: 0.6698\n",
      "Epoch 5/10\n",
      "313/313 - 57s - loss: 0.7894 - accuracy: 0.7242 - val_loss: 0.8923 - val_accuracy: 0.6891\n",
      "Epoch 6/10\n",
      "313/313 - 58s - loss: 0.7084 - accuracy: 0.7521 - val_loss: 0.8406 - val_accuracy: 0.7084\n",
      "Epoch 7/10\n",
      "313/313 - 59s - loss: 0.6302 - accuracy: 0.7789 - val_loss: 0.8632 - val_accuracy: 0.7069\n",
      "Epoch 8/10\n",
      "313/313 - 58s - loss: 0.5707 - accuracy: 0.8011 - val_loss: 0.8495 - val_accuracy: 0.7147\n",
      "Epoch 9/10\n",
      "313/313 - 58s - loss: 0.4966 - accuracy: 0.8270 - val_loss: 0.8262 - val_accuracy: 0.7273\n",
      "Epoch 10/10\n",
      "313/313 - 59s - loss: 0.4361 - accuracy: 0.8478 - val_loss: 0.8641 - val_accuracy: 0.7225\n"
     ]
    },
    {
     "data": {
      "text/plain": [
       "<tensorflow.python.keras.callbacks.History at 0x7ff4041d4dd8>"
      ]
     },
     "execution_count": 7,
     "metadata": {},
     "output_type": "execute_result"
    }
   ],
   "source": [
    "model.compile(optimizer='adam',\n",
    "              loss='sparse_categorical_crossentropy',\n",
    "              metrics=['accuracy'])\n",
    "\n",
    "model.fit(X_train, y_train,\n",
    "          batch_size=128,\n",
    "          validation_data=(X_val, y_val),\n",
    "          epochs=10,\n",
    "          verbose=2\n",
    "         )"
   ]
  },
  {
   "cell_type": "code",
   "execution_count": 8,
   "id": "07dc31de",
   "metadata": {},
   "outputs": [
    {
     "name": "stdout",
     "output_type": "stream",
     "text": [
      "313/313 - 4s - loss: 0.8752 - accuracy: 0.7198\n"
     ]
    },
    {
     "data": {
      "text/plain": [
       "[0.8751768469810486, 0.7197999954223633]"
      ]
     },
     "execution_count": 8,
     "metadata": {},
     "output_type": "execute_result"
    }
   ],
   "source": [
    "model.evaluate(X_test, y_test, verbose=2)"
   ]
  },
  {
   "cell_type": "code",
   "execution_count": null,
   "id": "21991ed6",
   "metadata": {},
   "outputs": [],
   "source": []
  }
 ],
 "metadata": {
  "kernelspec": {
   "display_name": "conda_amazonei_tensorflow2_p36",
   "language": "python",
   "name": "conda_amazonei_tensorflow2_p36"
  },
  "language_info": {
   "codemirror_mode": {
    "name": "ipython",
    "version": 3
   },
   "file_extension": ".py",
   "mimetype": "text/x-python",
   "name": "python",
   "nbconvert_exporter": "python",
   "pygments_lexer": "ipython3",
   "version": "3.6.13"
  }
 },
 "nbformat": 4,
 "nbformat_minor": 5
}
